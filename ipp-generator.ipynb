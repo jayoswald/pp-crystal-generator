{
 "cells": [
  {
   "cell_type": "code",
   "execution_count": 1,
   "metadata": {},
   "outputs": [
    {
     "ename": "ModuleNotFoundError",
     "evalue": "No module named 'numpy'",
     "output_type": "error",
     "traceback": [
      "\u001b[0;31m---------------------------------------------------------------------------\u001b[0m",
      "\u001b[0;31mModuleNotFoundError\u001b[0m                       Traceback (most recent call last)",
      "\u001b[0;32m<ipython-input-1-f8400038297b>\u001b[0m in \u001b[0;36m<module>\u001b[0;34m\u001b[0m\n\u001b[0;32m----> 1\u001b[0;31m \u001b[0;32mimport\u001b[0m \u001b[0mnumpy\u001b[0m\u001b[0;34m\u001b[0m\u001b[0;34m\u001b[0m\u001b[0m\n\u001b[0m\u001b[1;32m      2\u001b[0m \u001b[0;34m\u001b[0m\u001b[0m\n\u001b[1;32m      3\u001b[0m ''' Atomic fractional coordiantes x/a, y/b, and z/c\n\u001b[1;32m      4\u001b[0m from (1988 Macromolecules Immiczi and Iannelil) '''\n\u001b[1;32m      5\u001b[0m C = numpy.array([[ 0.2775, 0.0797, 0.9626],\n",
      "\u001b[0;31mModuleNotFoundError\u001b[0m: No module named 'numpy'"
     ]
    }
   ],
   "source": [
    "import numpy\n",
    "\n",
    "''' Atomic fractional coordiantes x/a, y/b, and z/c\n",
    "from (1988 Macromolecules Immiczi and Iannelil) '''\n",
    "C = numpy.array([[ 0.2775, 0.0797, 0.9626],\n",
    "                 [ 0.0872, 0.1156, 0.9730],\n",
    "                 [ 0.1026, 0.1221, 1.2109],\n",
    "                 [-0.0727, 0.2291, 0.2004],\n",
    "                 [-0.0765, 0.1592, 0.2788],\n",
    "                 [-0.1021, 0.1602, 0.5098],\n",
    "                 [-0.3087, 0.0589, 0.4941],\n",
    "                 [-0.1146, 0.0928, 0.6057],\n",
    "                 [-0.1044, 0.0854, 0.8428]])\n",
    "\n",
    "def main():\n",
    "    print(C)\n",
    "\n",
    "\n",
    "if __name__ == '__main__':\n",
    "    main()\n"
   ]
  },
  {
   "cell_type": "code",
   "execution_count": null,
   "metadata": {},
   "outputs": [],
   "source": []
  }
 ],
 "metadata": {
  "kernelspec": {
   "display_name": "Python 3",
   "language": "python",
   "name": "python3"
  },
  "language_info": {
   "codemirror_mode": {
    "name": "ipython",
    "version": 3
   },
   "file_extension": ".py",
   "mimetype": "text/x-python",
   "name": "python",
   "nbconvert_exporter": "python",
   "pygments_lexer": "ipython3",
   "version": "3.7.3"
  }
 },
 "nbformat": 4,
 "nbformat_minor": 2
}
